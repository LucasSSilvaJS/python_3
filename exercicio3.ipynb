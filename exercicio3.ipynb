{
 "cells": [
  {
   "cell_type": "code",
   "execution_count": 1,
   "metadata": {},
   "outputs": [
    {
     "name": "stdout",
     "output_type": "stream",
     "text": [
      "25.0\n",
      "182.28415099999998\n"
     ]
    }
   ],
   "source": [
    "'''\n",
    "1) Faça um Programa que peça 2 números inteiros e um número real. Calcule e mostre:\n",
    "\n",
    "a)O produto do dobro do primeiro com metade do segundo.\n",
    "\n",
    "b)A soma do triplo do primeiro com o terceiro. o terceiro elevado ao cubo.\n",
    "'''\n",
    "\n",
    "numero1 = int(input('Digite um numero inteiro: '))\n",
    "numero2 = int(input('Digite outro numero inteiro: '))\n",
    "numero3 = float(input('Agora digite um numero real: '))\n",
    "\n",
    "#a)\n",
    "print((2 * numero1) * (1/2 * numero2))\n",
    "#b)\n",
    "print((3 * numero1) + (numero3 ** 3))\n"
   ]
  },
  {
   "cell_type": "code",
   "execution_count": 3,
   "metadata": {},
   "outputs": [
    {
     "name": "stdout",
     "output_type": "stream",
     "text": [
      "12 é maior que 8\n"
     ]
    }
   ],
   "source": [
    "#2) Faça um Programa que peça dois números e imprima o maior deles.\n",
    "\n",
    "numero1 = int(input('Digite um numero inteiro: '))\n",
    "numero2 = int(input('Digite outro numero inteiro: '))\n",
    "if numero1 > numero2:\n",
    "    print(f'{numero1} é maior que {numero2}')\n",
    "if numero2 > numero1:\n",
    "    print(f'{numero2} é maior que {numero1}')"
   ]
  },
  {
   "cell_type": "code",
   "execution_count": 6,
   "metadata": {},
   "outputs": [
    {
     "name": "stdout",
     "output_type": "stream",
     "text": [
      "O numero 555 é positivo\n"
     ]
    }
   ],
   "source": [
    "# 3) Faça um Programa que peça um valor e mostre na tela se o valor é positivo ou negativo.\n",
    "numero = int(input('Digite um numero inteiro: '))\n",
    "if numero >= 0:\n",
    "    print(f'O numero {numero} é positivo')\n",
    "else:\n",
    "    print(f'O numero {numero} é negativo')\n"
   ]
  },
  {
   "cell_type": "code",
   "execution_count": 12,
   "metadata": {},
   "outputs": [
    {
     "name": "stdout",
     "output_type": "stream",
     "text": [
      "Aprovado!\n"
     ]
    }
   ],
   "source": [
    "# 4) Faça um programa para a leitura de duas notas parciais de um aluno. O programa deve calcular a média alcançada por aluno e apresentar o resultado \"Aprovado\" ou \"Reprovado\". Considere que a escola adota média 7.00.\n",
    "\n",
    "nota1 = float(input('Digite a nota 1: '))\n",
    "nota2 = float(input('Digite a nota 2: '))\n",
    "\n",
    "media = (nota1 + nota2)/2\n",
    "\n",
    "if media >= 7:\n",
    "    print('Aprovado!')\n",
    "else:\n",
    "    print('Reprovado!')\n"
   ]
  },
  {
   "cell_type": "code",
   "execution_count": 24,
   "metadata": {},
   "outputs": [
    {
     "name": "stdout",
     "output_type": "stream",
     "text": [
      "9\n"
     ]
    }
   ],
   "source": [
    "# 5)Faça um Programa que leia três números e mostre o maior deles.\n",
    "numeros = []\n",
    "\n",
    "for i in range(3):\n",
    "    numero = int(input('Digite um número: '))\n",
    "    numeros.append(numero)\n",
    "\n",
    "maior = numeros[0]\n",
    "\n",
    "for index, numero in enumerate(numeros):\n",
    "    if numero > maior:\n",
    "        maior = numero\n",
    "\n",
    "print(maior)"
   ]
  }
 ],
 "metadata": {
  "kernelspec": {
   "display_name": "Python 3",
   "language": "python",
   "name": "python3"
  },
  "language_info": {
   "codemirror_mode": {
    "name": "ipython",
    "version": 3
   },
   "file_extension": ".py",
   "mimetype": "text/x-python",
   "name": "python",
   "nbconvert_exporter": "python",
   "pygments_lexer": "ipython3",
   "version": "3.12.3"
  }
 },
 "nbformat": 4,
 "nbformat_minor": 2
}
